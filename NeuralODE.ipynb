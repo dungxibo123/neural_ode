{
 "cells": [
  {
   "cell_type": "code",
   "execution_count": 2,
   "id": "3cd45c1d",
   "metadata": {},
   "outputs": [],
   "source": [
    "from jupyterthemes import jtplot\n",
    "jtplot.style(theme=\"chesterish\")\n",
    "import torch\n",
    "import torch.nn as nn\n",
    "import torchdiffeq\n",
    "import matplotlib.pyplot as plt\n",
    "from torch.nn.functional import mse_loss\n",
    "import numpy as np \n",
    "from tqdm.notebook import tqdm\n",
    "\n",
    "\n",
    "from torchdiffeq import odeint_adjoint as odeint"
   ]
  },
  {
   "cell_type": "code",
   "execution_count": 13,
   "id": "4541bae0",
   "metadata": {},
   "outputs": [],
   "source": [
    "class Lambda(nn.Module):\n",
    "    def forward(self,t,x):\n",
    "         return x * x \n",
    "        \n",
    "class ODEBlock(nn.Module):\n",
    "    def __init__(self):\n",
    "        super(ODEBlock,self).__init__()\n",
    "        layers =[nn.Linear(1,32),\n",
    "                 nn.ReLU(),\n",
    "                 nn.Linear(32,64),\n",
    "                 nn.ReLU(),\n",
    "                 nn.Linear(64,64),\n",
    "                 nn.ReLU(),\n",
    "                 nn.Linear(64,1)]\n",
    "        self.net = nn.Sequential(\n",
    "            *layers\n",
    "        )\n",
    "    \n",
    "    def forward(self,t,x):\n",
    "        #copy_x = torch.clone(x)\n",
    "        #for i in range(10):\n",
    "        #    copy_x = x + self.net(copy_x)\n",
    "        x = self.net(x)\n",
    "            \n",
    "        return x\n",
    "    \n",
    "class ODENet(nn.Module):\n",
    "    def __init__(self, func):\n",
    "        super(ODENet,self).__init__()\n",
    "        self.func = func\n",
    "        self.intergrated_time = torch.Tensor([0.,1.]).float()\n",
    "    def forward(self,x):\n",
    "        out = odeint(self.func, x, self.intergrated_time)\n",
    "        return out[1]\n",
    "        \n",
    "def get_batch(X,Y):\n",
    "    data = torch.stack(X,Y) \n",
    "    print(data.shape)\n"
   ]
  },
  {
   "cell_type": "code",
   "execution_count": 24,
   "id": "90dd3593",
   "metadata": {},
   "outputs": [
    {
     "data": {
      "image/png": "[encoded data removed]",
      "text/plain": [
       "<Figure size 432x288 with 1 Axes>"
      ]
     },
     "metadata": {},
     "output_type": "display_data"
    }
   ],
   "source": [
    "ode_func = Lambda()\n",
    "t_eu = odeint(ode_func, torch.Tensor([1.]), torch.linspace(0,1,100), method='rk4')\n",
    "t_rk = odeint(ode_func, torch.Tensor([1.]), torch.linspace(0,1,100), method='euler')\n",
    "np_eu = t_eu.detach().numpy()[:60]\n",
    "np_rk = t_rk.detach().numpy()[:60]\n",
    "np_x = np.linspace(0,1,100)[:60]\n",
    "plt.plot(np_x, np_eu, label=\"Euler\")\n",
    "plt.plot(np_x, np_rk, label=\"Runge-Kutta 4\")\n",
    "plt.legend()\n",
    "plt.savefig(\"test.png\", format=\"png\")"
   ]
  },
  {
   "cell_type": "code",
   "execution_count": 6,
   "id": "62efc4bf",
   "metadata": {},
   "outputs": [
    {
     "ename": "NameError",
     "evalue": "name 'epochs' is not defined",
     "output_type": "error",
     "traceback": [
      "\u001b[0;31m---------------------------------------------------------------------------\u001b[0m",
      "\u001b[0;31mNameError\u001b[0m                                 Traceback (most recent call last)",
      "\u001b[0;32m/tmp/ipykernel_7275/4003687238.py\u001b[0m in \u001b[0;36m<module>\u001b[0;34m\u001b[0m\n\u001b[0;32m----> 1\u001b[0;31m \u001b[0;32mfor\u001b[0m \u001b[0mi\u001b[0m \u001b[0;32min\u001b[0m \u001b[0mtqdm\u001b[0m\u001b[0;34m(\u001b[0m\u001b[0mrange\u001b[0m\u001b[0;34m(\u001b[0m\u001b[0mepochs\u001b[0m\u001b[0;34m)\u001b[0m\u001b[0;34m)\u001b[0m\u001b[0;34m:\u001b[0m\u001b[0;34m\u001b[0m\u001b[0;34m\u001b[0m\u001b[0m\n\u001b[0m\u001b[1;32m      2\u001b[0m     \u001b[0moptimizer\u001b[0m\u001b[0;34m.\u001b[0m\u001b[0mzero_grad\u001b[0m\u001b[0;34m(\u001b[0m\u001b[0;34m)\u001b[0m\u001b[0;34m\u001b[0m\u001b[0;34m\u001b[0m\u001b[0m\n\u001b[1;32m      3\u001b[0m     \u001b[0mx\u001b[0m \u001b[0;34m=\u001b[0m \u001b[0mtorch\u001b[0m\u001b[0;34m.\u001b[0m\u001b[0mrand\u001b[0m\u001b[0;34m(\u001b[0m\u001b[0;34m(\u001b[0m\u001b[0;36m8\u001b[0m\u001b[0;34m,\u001b[0m\u001b[0;36m1\u001b[0m\u001b[0;34m)\u001b[0m\u001b[0;34m)\u001b[0m \u001b[0;34m*\u001b[0m \u001b[0;36m4\u001b[0m \u001b[0;34m-\u001b[0m \u001b[0;36m2\u001b[0m\u001b[0;34m\u001b[0m\u001b[0;34m\u001b[0m\u001b[0m\n\u001b[1;32m      4\u001b[0m     \u001b[0my\u001b[0m \u001b[0;34m=\u001b[0m \u001b[0mx\u001b[0m \u001b[0;34m**\u001b[0m \u001b[0;36m3\u001b[0m\u001b[0;34m\u001b[0m\u001b[0;34m\u001b[0m\u001b[0m\n\u001b[1;32m      5\u001b[0m     \u001b[0mpred_y\u001b[0m \u001b[0;34m=\u001b[0m \u001b[0mmodel\u001b[0m\u001b[0;34m(\u001b[0m\u001b[0mx\u001b[0m\u001b[0;34m)\u001b[0m\u001b[0;34m\u001b[0m\u001b[0;34m\u001b[0m\u001b[0m\n",
      "\u001b[0;31mNameError\u001b[0m: name 'epochs' is not defined"
     ]
    }
   ],
   "source": [
    "for i in tqdm(range(epochs)):\n",
    "    optimizer.zero_grad()\n",
    "    x = torch.rand((8,1)) * 4 - 2\n",
    "    y = x ** 3\n",
    "    pred_y = model(x)\n",
    "    loss = torch.mean((y - pred_y)**2)\n",
    "    losses.append(loss.item())\n",
    "    print(f\"Epoch(s) {i+1} | Loss = {losses[-1]}\")\n",
    "    loss.backward()\n",
    "    optimizer.step()"
   ]
  },
  {
   "cell_type": "code",
   "execution_count": null,
   "id": "f5ff3ef7",
   "metadata": {},
   "outputs": [],
   "source": [
    "test = np.linspace(-2,2,1000)\n",
    "plt.plot(test,test**3)\n",
    "test_y = model(torch.linspace(-2,2,1000).reshape(1000,1))\n",
    "plt.plot(test,test_y.detach().numpy(),color=\"r\")\n",
    "plt.show()"
   ]
  },
  {
   "cell_type": "code",
   "execution_count": null,
   "id": "6ea4f493",
   "metadata": {},
   "outputs": [],
   "source": []
  },
  {
   "cell_type": "code",
   "execution_count": null,
   "id": "144d7473",
   "metadata": {},
   "outputs": [],
   "source": []
  },
  {
   "cell_type": "code",
   "execution_count": null,
   "id": "63483be8",
   "metadata": {},
   "outputs": [],
   "source": []
  }
 ],
 "metadata": {
  "kernelspec": {
   "display_name": "Python 3 (ipykernel)",
   "language": "python",
   "name": "python3"
  },
  "language_info": {
   "codemirror_mode": {
    "name": "ipython",
    "version": 3
   },
   "file_extension": ".py",
   "mimetype": "text/x-python",
   "name": "python",
   "nbconvert_exporter": "python",
   "pygments_lexer": "ipython3",
   "version": "3.9.7"
  }
 },
 "nbformat": 4,
 "nbformat_minor": 5
}
